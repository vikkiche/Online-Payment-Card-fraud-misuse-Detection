{
 "cells": [
  {
   "cell_type": "code",
   "execution_count": 1,
   "metadata": {},
   "outputs": [
    {
     "name": "stdout",
     "output_type": "stream",
     "text": [
      "Python: 3.6.4 |Anaconda, Inc.| (default, Jan 16 2018, 12:04:33) \n",
      "[GCC 4.2.1 Compatible Clang 4.0.1 (tags/RELEASE_401/final)]\n",
      "Numpy: 1.14.2\n",
      "Pandas: 0.23.4\n",
      "Matplotlib: 2.1.2\n",
      "Seaborn: 0.8.1\n",
      "Scipy: 1.0.0\n",
      "Sklearn: 0.20.1\n"
     ]
    }
   ],
   "source": [
    "import sys\n",
    "import numpy\n",
    "import pandas\n",
    "import matplotlib\n",
    "import seaborn\n",
    "import scipy\n",
    "import sklearn\n",
    "print('Python: {}'.format(sys.version))\n",
    "print('Numpy: {}'.format(numpy.__version__))\n",
    "print('Pandas: {}'.format(pandas.__version__))\n",
    "print('Matplotlib: {}'.format(matplotlib.__version__))\n",
    "print('Seaborn: {}'.format(seaborn.__version__))\n",
    "print('Scipy: {}'.format(scipy.__version__))\n",
    "print('Sklearn: {}'.format(sklearn.__version__))"
   ]
  },
  {
   "cell_type": "code",
   "execution_count": 2,
   "metadata": {},
   "outputs": [],
   "source": [
    "import numpy as np\n",
    "import sklearn as sk\n",
    "import pandas as pd\n",
    "import matplotlib.pyplot as plt\n",
    "from sklearn.preprocessing import scale\n",
    "import random"
   ]
  },
  {
   "cell_type": "code",
   "execution_count": 3,
   "metadata": {},
   "outputs": [
    {
     "data": {
      "text/html": [
       "<div>\n",
       "<style scoped>\n",
       "    .dataframe tbody tr th:only-of-type {\n",
       "        vertical-align: middle;\n",
       "    }\n",
       "\n",
       "    .dataframe tbody tr th {\n",
       "        vertical-align: top;\n",
       "    }\n",
       "\n",
       "    .dataframe thead th {\n",
       "        text-align: right;\n",
       "    }\n",
       "</style>\n",
       "<table border=\"1\" class=\"dataframe\">\n",
       "  <thead>\n",
       "    <tr style=\"text-align: right;\">\n",
       "      <th></th>\n",
       "      <th>Time</th>\n",
       "      <th>V1</th>\n",
       "      <th>V2</th>\n",
       "      <th>V3</th>\n",
       "      <th>V4</th>\n",
       "      <th>V5</th>\n",
       "      <th>V6</th>\n",
       "      <th>V7</th>\n",
       "      <th>V8</th>\n",
       "      <th>V9</th>\n",
       "      <th>...</th>\n",
       "      <th>V21</th>\n",
       "      <th>V22</th>\n",
       "      <th>V23</th>\n",
       "      <th>V24</th>\n",
       "      <th>V25</th>\n",
       "      <th>V26</th>\n",
       "      <th>V27</th>\n",
       "      <th>V28</th>\n",
       "      <th>Amount</th>\n",
       "      <th>Class</th>\n",
       "    </tr>\n",
       "  </thead>\n",
       "  <tbody>\n",
       "    <tr>\n",
       "      <th>0</th>\n",
       "      <td>76995.0</td>\n",
       "      <td>-1.027835</td>\n",
       "      <td>0.924215</td>\n",
       "      <td>1.885737</td>\n",
       "      <td>0.874969</td>\n",
       "      <td>0.612837</td>\n",
       "      <td>-0.159848</td>\n",
       "      <td>0.683418</td>\n",
       "      <td>0.064475</td>\n",
       "      <td>-1.274356</td>\n",
       "      <td>...</td>\n",
       "      <td>-0.320432</td>\n",
       "      <td>-0.983807</td>\n",
       "      <td>-0.060088</td>\n",
       "      <td>0.172617</td>\n",
       "      <td>-0.053214</td>\n",
       "      <td>-0.713980</td>\n",
       "      <td>0.017609</td>\n",
       "      <td>0.043134</td>\n",
       "      <td>33.50</td>\n",
       "      <td>0</td>\n",
       "    </tr>\n",
       "    <tr>\n",
       "      <th>1</th>\n",
       "      <td>156084.0</td>\n",
       "      <td>1.928671</td>\n",
       "      <td>-0.038188</td>\n",
       "      <td>-1.827506</td>\n",
       "      <td>0.614063</td>\n",
       "      <td>0.026633</td>\n",
       "      <td>-1.545956</td>\n",
       "      <td>0.306277</td>\n",
       "      <td>-0.363386</td>\n",
       "      <td>0.715239</td>\n",
       "      <td>...</td>\n",
       "      <td>0.219820</td>\n",
       "      <td>0.619357</td>\n",
       "      <td>-0.067871</td>\n",
       "      <td>-0.047609</td>\n",
       "      <td>0.197591</td>\n",
       "      <td>-0.107926</td>\n",
       "      <td>-0.019369</td>\n",
       "      <td>-0.019281</td>\n",
       "      <td>68.95</td>\n",
       "      <td>0</td>\n",
       "    </tr>\n",
       "    <tr>\n",
       "      <th>2</th>\n",
       "      <td>84289.0</td>\n",
       "      <td>0.296428</td>\n",
       "      <td>1.689439</td>\n",
       "      <td>-1.954393</td>\n",
       "      <td>1.643363</td>\n",
       "      <td>0.720899</td>\n",
       "      <td>-1.757518</td>\n",
       "      <td>0.599327</td>\n",
       "      <td>0.078162</td>\n",
       "      <td>-0.422381</td>\n",
       "      <td>...</td>\n",
       "      <td>-0.092386</td>\n",
       "      <td>-0.069571</td>\n",
       "      <td>0.228375</td>\n",
       "      <td>0.159298</td>\n",
       "      <td>-0.539078</td>\n",
       "      <td>-0.462599</td>\n",
       "      <td>-0.163576</td>\n",
       "      <td>-0.294214</td>\n",
       "      <td>0.89</td>\n",
       "      <td>0</td>\n",
       "    </tr>\n",
       "    <tr>\n",
       "      <th>3</th>\n",
       "      <td>44686.0</td>\n",
       "      <td>-1.250704</td>\n",
       "      <td>0.819374</td>\n",
       "      <td>1.213428</td>\n",
       "      <td>0.513111</td>\n",
       "      <td>1.319954</td>\n",
       "      <td>0.498988</td>\n",
       "      <td>0.536566</td>\n",
       "      <td>-0.065292</td>\n",
       "      <td>-0.627821</td>\n",
       "      <td>...</td>\n",
       "      <td>-0.066568</td>\n",
       "      <td>-0.004673</td>\n",
       "      <td>-0.277957</td>\n",
       "      <td>-1.283640</td>\n",
       "      <td>0.551222</td>\n",
       "      <td>-0.217163</td>\n",
       "      <td>-0.238507</td>\n",
       "      <td>0.102379</td>\n",
       "      <td>4.74</td>\n",
       "      <td>0</td>\n",
       "    </tr>\n",
       "    <tr>\n",
       "      <th>4</th>\n",
       "      <td>63302.0</td>\n",
       "      <td>-1.067709</td>\n",
       "      <td>-0.885098</td>\n",
       "      <td>2.146532</td>\n",
       "      <td>0.620595</td>\n",
       "      <td>5.480892</td>\n",
       "      <td>-2.393705</td>\n",
       "      <td>-7.216245</td>\n",
       "      <td>-0.996823</td>\n",
       "      <td>1.779951</td>\n",
       "      <td>...</td>\n",
       "      <td>1.436387</td>\n",
       "      <td>-2.168015</td>\n",
       "      <td>-9.873411</td>\n",
       "      <td>-0.855139</td>\n",
       "      <td>-1.292436</td>\n",
       "      <td>-0.574897</td>\n",
       "      <td>0.711660</td>\n",
       "      <td>0.507173</td>\n",
       "      <td>9.99</td>\n",
       "      <td>0</td>\n",
       "    </tr>\n",
       "  </tbody>\n",
       "</table>\n",
       "<p>5 rows × 31 columns</p>\n",
       "</div>"
      ],
      "text/plain": [
       "       Time        V1        V2        V3        V4        V5        V6  \\\n",
       "0   76995.0 -1.027835  0.924215  1.885737  0.874969  0.612837 -0.159848   \n",
       "1  156084.0  1.928671 -0.038188 -1.827506  0.614063  0.026633 -1.545956   \n",
       "2   84289.0  0.296428  1.689439 -1.954393  1.643363  0.720899 -1.757518   \n",
       "3   44686.0 -1.250704  0.819374  1.213428  0.513111  1.319954  0.498988   \n",
       "4   63302.0 -1.067709 -0.885098  2.146532  0.620595  5.480892 -2.393705   \n",
       "\n",
       "         V7        V8        V9  ...         V21       V22       V23  \\\n",
       "0  0.683418  0.064475 -1.274356  ...   -0.320432 -0.983807 -0.060088   \n",
       "1  0.306277 -0.363386  0.715239  ...    0.219820  0.619357 -0.067871   \n",
       "2  0.599327  0.078162 -0.422381  ...   -0.092386 -0.069571  0.228375   \n",
       "3  0.536566 -0.065292 -0.627821  ...   -0.066568 -0.004673 -0.277957   \n",
       "4 -7.216245 -0.996823  1.779951  ...    1.436387 -2.168015 -9.873411   \n",
       "\n",
       "        V24       V25       V26       V27       V28  Amount  Class  \n",
       "0  0.172617 -0.053214 -0.713980  0.017609  0.043134   33.50      0  \n",
       "1 -0.047609  0.197591 -0.107926 -0.019369 -0.019281   68.95      0  \n",
       "2  0.159298 -0.539078 -0.462599 -0.163576 -0.294214    0.89      0  \n",
       "3 -1.283640  0.551222 -0.217163 -0.238507  0.102379    4.74      0  \n",
       "4 -0.855139 -1.292436 -0.574897  0.711660  0.507173    9.99      0  \n",
       "\n",
       "[5 rows x 31 columns]"
      ]
     },
     "execution_count": 3,
     "metadata": {},
     "output_type": "execute_result"
    }
   ],
   "source": [
    "d = pd.read_csv('creditcard.csv', low_memory=False)\n",
    "d = d.sample(frac=1).reset_index(drop=True)\n",
    "d.head()"
   ]
  },
  {
   "cell_type": "code",
   "execution_count": 4,
   "metadata": {},
   "outputs": [
    {
     "name": "stdout",
     "output_type": "stream",
     "text": [
      "Fraud/Misuse Cases: 492\n",
      "Valid Transactions: 284315\n"
     ]
    }
   ],
   "source": [
    "Fraud = d[d['Class'] == 1]\n",
    "Valid = d[d['Class'] == 0]\n",
    "\n",
    "\n",
    "print('Fraud/Misuse Cases: {}'.format(len(Fraud)))\n",
    "print('Valid Transactions: {}'.format(len(Valid)))"
   ]
  },
  {
   "cell_type": "code",
   "execution_count": 5,
   "metadata": {},
   "outputs": [
    {
     "data": {
      "image/png": "[encoded data removed]",
      "text/plain": [
       "<matplotlib.figure.Figure at 0x1a17c44198>"
      ]
     },
     "metadata": {},
     "output_type": "display_data"
    }
   ],
   "source": [
    "ax = Fraud.plot.scatter(x='Amount', y='Class', color='Orange', label='Fraud/Misuse')\n",
    "Valid.plot.scatter(x='Amount', y='Class', color='Blue', label='Valid', ax=ax)\n",
    "plt.show()"
   ]
  },
  {
   "cell_type": "code",
   "execution_count": 6,
   "metadata": {},
   "outputs": [],
   "source": [
    "from sklearn import datasets, linear_model\n",
    "from sklearn.preprocessing import PolynomialFeatures\n",
    "from sklearn.model_selection import train_test_split"
   ]
  },
  {
   "cell_type": "code",
   "execution_count": 7,
   "metadata": {},
   "outputs": [
    {
     "name": "stdout",
     "output_type": "stream",
     "text": [
      "X Size: 284807\n",
      "Y Size: 284807\n",
      "Train Size: 185124 185124\n",
      "Test Size: 99683 99683\n",
      "Total No. of Frauds: 492 0.001727485630620034\n",
      "No. of Frauds on y_test: 178 0.0017856605439242397\n",
      "No. of Frauds on y_train: 314 0.0016961604113999264\n"
     ]
    }
   ],
   "source": [
    "X = d.iloc[:,:-1]\n",
    "y = d['Class']\n",
    "\n",
    "print(\"X Size:\", len(X))\n",
    "print(\"Y Size:\", len(y))\n",
    "\n",
    "X_train, X_test, y_train, y_test = train_test_split(X, y, test_size=0.35)\n",
    "print(\"Train Size:\", len(X_train), len(y_train))\n",
    "print(\"Test Size:\", len(X_test), len(y_test))\n",
    "print(\"Total No. of Frauds:\", len(y.loc[d['Class'] == 1]), len(y.loc[d['Class'] == 1])/len(y))\n",
    "print(\"No. of Frauds on y_test:\", len(y_test.loc[d['Class'] == 1]), len(y_test.loc[d['Class'] == 1]) / len(y_test))\n",
    "print(\"No. of Frauds on y_train:\", len(y_train.loc[d['Class'] == 1]), len(y_train.loc[d['Class'] == 1])/len(y_train))"
   ]
  },
  {
   "cell_type": "code",
   "execution_count": 8,
   "metadata": {},
   "outputs": [
    {
     "name": "stderr",
     "output_type": "stream",
     "text": [
      "/Users/Vikki/anaconda3/lib/python3.6/site-packages/sklearn/linear_model/logistic.py:433: FutureWarning: Default solver will be changed to 'lbfgs' in 0.22. Specify a solver to silence this warning.\n",
      "  FutureWarning)\n"
     ]
    },
    {
     "name": "stdout",
     "output_type": "stream",
     "text": [
      "Logistic Score:  0.998896501911058\n"
     ]
    }
   ],
   "source": [
    "logistic = linear_model.LogisticRegression(C=1e5)\n",
    "logistic.fit(X_train, y_train)\n",
    "print(\"Logistic Score: \", logistic.score(X_test, y_test))"
   ]
  },
  {
   "cell_type": "code",
   "execution_count": 9,
   "metadata": {},
   "outputs": [],
   "source": [
    "y_predicted = np.array(logistic.predict(X_test))\n",
    "y_right = np.array(y_test)"
   ]
  },
  {
   "cell_type": "code",
   "execution_count": 10,
   "metadata": {},
   "outputs": [
    {
     "name": "stdout",
     "output_type": "stream",
     "text": [
      "Confusion matrix:\n",
      "Predicted  False  True  __all__\n",
      "Actual                         \n",
      "False      99464    41    99505\n",
      "True          69   109      178\n",
      "__all__    99533   150    99683\n"
     ]
    },
    {
     "data": {
      "image/png": "[encoded data removed]",
      "text/plain": [
       "<matplotlib.figure.Figure at 0x1a1d33eeb8>"
      ]
     },
     "metadata": {},
     "output_type": "display_data"
    },
    {
     "name": "stdout",
     "output_type": "stream",
     "text": [
      "population: 99683\n",
      "P: 178\n",
      "N: 99505\n",
      "PositiveTest: 150\n",
      "NegativeTest: 99533\n",
      "TP: 109\n",
      "TN: 99464\n",
      "FP: 41\n",
      "FN: 69\n",
      "TPR: 0.6123595505617978\n",
      "TNR: 0.9995879604039998\n",
      "PPV: 0.7266666666666667\n",
      "NPV: 0.9993067625812545\n",
      "FPR: 0.000412039596000201\n",
      "FDR: 0.2733333333333333\n",
      "FNR: 0.38764044943820225\n",
      "ACC: 0.998896501911058\n",
      "F1_score: 0.6646341463414634\n",
      "MCC: 0.6665265433991131\n",
      "informedness: 0.6119475109657975\n",
      "markedness: 0.7259734292479212\n",
      "prevalence: 0.0017856605439242397\n",
      "LRP: 1486.1667580158949\n",
      "LRN: 0.3878002384917992\n",
      "DOR: 3832.2997525627434\n",
      "FOR: 0.0006932374187455417\n"
     ]
    }
   ],
   "source": [
    "#conda install -c conda-forge pandas_ml\n",
    "from pandas_ml import ConfusionMatrix\n",
    "confusion_matrix = ConfusionMatrix(y_right, y_predicted)\n",
    "print(\"Confusion matrix:\\n%s\" % confusion_matrix)\n",
    "confusion_matrix.plot(normalized=True)\n",
    "plt.show()\n",
    "confusion_matrix.print_stats()"
   ]
  },
  {
   "cell_type": "code",
   "execution_count": 11,
   "metadata": {},
   "outputs": [
    {
     "name": "stdout",
     "output_type": "stream",
     "text": [
      "False Negative Rate is 0.38764044943820225\n"
     ]
    }
   ],
   "source": [
    "print(\"False Negative Rate is {0}\".format(confusion_matrix.stats()['FNR']))"
   ]
  },
  {
   "cell_type": "code",
   "execution_count": 12,
   "metadata": {},
   "outputs": [
    {
     "name": "stdout",
     "output_type": "stream",
     "text": [
      "Dataset size after over sampling: 568630\n"
     ]
    }
   ],
   "source": [
    "#conda install -c conda-forge imbalanced-learn \n",
    "import pandas_ml as pdml\n",
    "d2 = pdml.ModelFrame(X, target=y)\n",
    "sampler = d2.imbalance.over_sampling.SMOTE()\n",
    "sampled = d2.fit_sample(sampler)\n",
    "print(\"Dataset size after over sampling:\", len(sampled))"
   ]
  },
  {
   "cell_type": "code",
   "execution_count": 13,
   "metadata": {},
   "outputs": [
    {
     "name": "stderr",
     "output_type": "stream",
     "text": [
      "/Users/Vikki/anaconda3/lib/python3.6/site-packages/ipykernel_launcher.py:6: FutureWarning: Method .as_matrix will be removed in a future version. Use .values instead.\n",
      "  \n",
      "/Users/Vikki/anaconda3/lib/python3.6/site-packages/sklearn/linear_model/logistic.py:433: FutureWarning: Default solver will be changed to 'lbfgs' in 0.22. Specify a solver to silence this warning.\n",
      "  FutureWarning)\n"
     ]
    },
    {
     "name": "stdout",
     "output_type": "stream",
     "text": [
      "Logistic Score:  0.9806502831359505\n"
     ]
    }
   ],
   "source": [
    "X1 = sampled.iloc[:,1:]\n",
    "y1 = sampled['Class']\n",
    "\n",
    "X1 = scale(X1)\n",
    "\n",
    "X_train1, X_test1, y_train1, y_test1 = train_test_split(X1, y1.as_matrix(), test_size=0.35, random_state=250)\n",
    "logistic = linear_model.LogisticRegression(C=1e5)\n",
    "logistic.fit(X_train1, y_train1)\n",
    "print(\"Logistic Score: \", logistic.score(X_test1, y_test1))"
   ]
  },
  {
   "cell_type": "code",
   "execution_count": 14,
   "metadata": {},
   "outputs": [
    {
     "name": "stdout",
     "output_type": "stream",
     "text": [
      "Confusion matrix:\n",
      "Predicted   False   True  __all__\n",
      "Actual                           \n",
      "False       98826    811    99637\n",
      "True         3040  96344    99384\n",
      "__all__    101866  97155   199021\n"
     ]
    },
    {
     "data": {
      "image/png": "[encoded data removed]",
      "text/plain": [
       "<matplotlib.figure.Figure at 0x1a1b9a4780>"
      ]
     },
     "metadata": {},
     "output_type": "display_data"
    },
    {
     "name": "stdout",
     "output_type": "stream",
     "text": [
      "population: 199021\n",
      "P: 99384\n",
      "N: 99637\n",
      "PositiveTest: 97155\n",
      "NegativeTest: 101866\n",
      "TP: 96344\n",
      "TN: 98826\n",
      "FP: 811\n",
      "FN: 3040\n",
      "TPR: 0.9694115753038719\n",
      "TNR: 0.991860453446009\n",
      "PPV: 0.9916525140239822\n",
      "NPV: 0.9701568727544029\n",
      "FPR: 0.008139546553990988\n",
      "FDR: 0.008347485976017704\n",
      "FNR: 0.03058842469612815\n",
      "ACC: 0.9806502831359505\n",
      "F1_score: 0.9804059245238859\n",
      "MCC: 3.963595048049698\n",
      "informedness: 0.9612720287498808\n",
      "markedness: 0.961809386778385\n",
      "prevalence: 0.49936438868260136\n",
      "LRP: 119.0989656332329\n",
      "LRN: 0.03083944378451137\n",
      "DOR: 3861.9038159517163\n",
      "FOR: 0.029843127245597158\n"
     ]
    },
    {
     "name": "stderr",
     "output_type": "stream",
     "text": [
      "/Users/Vikki/anaconda3/lib/python3.6/site-packages/pandas_ml/confusion_matrix/bcm.py:304: RuntimeWarning: overflow encountered in long_scalars\n",
      "  (self.TN + self.FP) * (self.TN + self.FN)))\n"
     ]
    }
   ],
   "source": [
    "y_predicted1 = np.array(logistic.predict(X_test1))\n",
    "y_right1 = np.array(y_test1)\n",
    "\n",
    "confusion_matrix1 = ConfusionMatrix(y_right1, y_predicted1)\n",
    "print(\"Confusion matrix:\\n%s\" % confusion_matrix1)\n",
    "confusion_matrix1.plot(normalized=True)\n",
    "plt.show()\n",
    "confusion_matrix1.print_stats()"
   ]
  },
  {
   "cell_type": "code",
   "execution_count": 15,
   "metadata": {},
   "outputs": [
    {
     "name": "stderr",
     "output_type": "stream",
     "text": [
      "/Users/Vikki/anaconda3/lib/python3.6/site-packages/ipykernel_launcher.py:4: FutureWarning: Method .as_matrix will be removed in a future version. Use .values instead.\n",
      "  after removing the cwd from sys.path.\n"
     ]
    }
   ],
   "source": [
    "X2 = d.iloc[:,:-1]\n",
    "y2 = d['Class']\n",
    "\n",
    "X_train2, X_test2, y_train2, y_test2 = train_test_split(X2, y2.as_matrix(), test_size=0.35, random_state=12)"
   ]
  },
  {
   "cell_type": "code",
   "execution_count": 16,
   "metadata": {},
   "outputs": [
    {
     "name": "stderr",
     "output_type": "stream",
     "text": [
      "/Users/Vikki/anaconda3/lib/python3.6/site-packages/sklearn/linear_model/logistic.py:433: FutureWarning: Default solver will be changed to 'lbfgs' in 0.22. Specify a solver to silence this warning.\n",
      "  FutureWarning)\n"
     ]
    },
    {
     "name": "stdout",
     "output_type": "stream",
     "text": [
      "Logistic Score:  0.9717705125247033\n"
     ]
    }
   ],
   "source": [
    "logistic = linear_model.LogisticRegression(C=1e5, class_weight=\"balanced\")\n",
    "logistic.fit(X_train2, y_train2)\n",
    "print(\"Logistic Score: \", logistic.score(X_test2, y_test2))"
   ]
  },
  {
   "cell_type": "code",
   "execution_count": 17,
   "metadata": {},
   "outputs": [
    {
     "name": "stdout",
     "output_type": "stream",
     "text": [
      "Confusion matrix:\n",
      "Predicted  False  True  __all__\n",
      "Actual                         \n",
      "False      96710  2808    99518\n",
      "True           6   159      165\n",
      "__all__    96716  2967    99683\n"
     ]
    },
    {
     "data": {
      "image/png": "[encoded data removed]",
      "text/plain": [
       "<matplotlib.figure.Figure at 0x1a39f3e9b0>"
      ]
     },
     "metadata": {},
     "output_type": "display_data"
    },
    {
     "name": "stdout",
     "output_type": "stream",
     "text": [
      "population: 99683\n",
      "P: 165\n",
      "N: 99518\n",
      "PositiveTest: 2967\n",
      "NegativeTest: 96716\n",
      "TP: 159\n",
      "TN: 96710\n",
      "FP: 2808\n",
      "FN: 6\n",
      "TPR: 0.9636363636363636\n",
      "TNR: 0.9717839988745754\n",
      "PPV: 0.05358948432760364\n",
      "NPV: 0.9999379626949005\n",
      "FPR: 0.028216001125424547\n",
      "FDR: 0.9464105156723963\n",
      "FNR: 0.03636363636363636\n",
      "ACC: 0.9717705125247033\n",
      "F1_score: 0.10153256704980843\n",
      "MCC: 0.22376475124128897\n",
      "informedness: 0.9354203625109392\n",
      "markedness: 0.053527447022504226\n",
      "prevalence: 0.001655247133412919\n",
      "LRP: 34.1521238021238\n",
      "LRN: 0.03741946400203044\n",
      "DOR: 912.6834045584046\n",
      "FOR: 6.203730509946647e-05\n"
     ]
    }
   ],
   "source": [
    "y_predicted2 = np.array(logistic.predict(X_test2))\n",
    "y_right2 = np.array(y_test2)\n",
    "confusion_matrix2 = ConfusionMatrix(y_right2, y_predicted2)\n",
    "print(\"Confusion matrix:\\n%s\" % confusion_matrix2)\n",
    "confusion_matrix2.plot(normalized=True)\n",
    "plt.show()\n",
    "confusion_matrix2.print_stats()"
   ]
  },
  {
   "cell_type": "code",
   "execution_count": null,
   "metadata": {},
   "outputs": [],
   "source": []
  }
 ],
 "metadata": {
  "kernelspec": {
   "display_name": "Python 3",
   "language": "python",
   "name": "python3"
  },
  "language_info": {
   "codemirror_mode": {
    "name": "ipython",
    "version": 3
   },
   "file_extension": ".py",
   "mimetype": "text/x-python",
   "name": "python",
   "nbconvert_exporter": "python",
   "pygments_lexer": "ipython3",
   "version": "3.6.4"
  }
 },
 "nbformat": 4,
 "nbformat_minor": 2
}
